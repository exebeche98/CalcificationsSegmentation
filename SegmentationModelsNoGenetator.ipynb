{
 "cells": [
  {
   "cell_type": "code",
   "execution_count": null,
   "id": "26edae07",
   "metadata": {},
   "outputs": [],
   "source": [
    "import os\n",
    "import cv2\n",
    "import numpy as np\n",
    "from matplotlib import pyplot as plt\n",
    "import segmentation_models as sm\n",
    "from tensorflow.keras.metrics import MeanIoU\n",
    "import random\n",
    "from PIL import Image\n",
    "import tensorflow as tf\n",
    "from tensorflow import keras\n",
    "from tensorflow.keras.callbacks import ModelCheckpoint, EarlyStopping"
   ]
  },
  {
   "cell_type": "code",
   "execution_count": null,
   "id": "f4e7741a",
   "metadata": {},
   "outputs": [],
   "source": [
    "basepath = 'C:/Users/TRXMNT1337/Desktop/basepath/'\n",
    "###train\n",
    "train_img_directory = basepath + 'train/patches/img/'\n",
    "train_msk_directory = basepath + 'train/patches_msk/img/' \n",
    "\n",
    "###test\n",
    "test_img_directory = basepath + 'test/patches/img/'\n",
    "test_msk_directory = basepath + 'test/patches_msk/img/'\n",
    "\n",
    "valid_img_directory = basepath + 'test/patches/'\n",
    "valid_msk_directory = basepath + 'test/patches_msk/'\n",
    "\n",
    "\n",
    "###############################################################\n",
    "\n",
    "train_img_list = os.listdir(train_img_directory)\n",
    "print(len(train_img_list))\n",
    "train_msk_list = os.listdir(train_msk_directory)\n",
    "print(len(train_msk_list))\n",
    "\n",
    "test_img_list = os.listdir(test_img_directory)\n",
    "print(len(test_img_list))\n",
    "test_msk_list = os.listdir(test_msk_directory)\n",
    "print(len(test_msk_list))"
   ]
  },
  {
   "cell_type": "code",
   "execution_count": null,
   "id": "be98462c",
   "metadata": {
    "scrolled": false
   },
   "outputs": [],
   "source": [
    "num_images = len(test_img_list)\n",
    "\n",
    "img_num = random.randint(0, num_images-1)\n",
    "\n",
    "img_for_plot = cv2.imread(test_img_directory + test_img_list[img_num], 1)\n",
    "img_for_plot = cv2.cvtColor(img_for_plot, cv2.COLOR_BGR2RGB)\n",
    "\n",
    "mask_for_plot =cv2.imread(test_msk_directory + test_msk_list[img_num], 0)\n",
    "\n",
    "plt.figure(figsize=(12, 8))\n",
    "plt.subplot(121)\n",
    "plt.imshow(img_for_plot)\n",
    "plt.title('Image')\n",
    "plt.subplot(122)\n",
    "plt.imshow(mask_for_plot, cmap='gray')\n",
    "plt.title('Mask')\n",
    "plt.show()"
   ]
  },
  {
   "cell_type": "code",
   "execution_count": null,
   "id": "6d26c231",
   "metadata": {},
   "outputs": [],
   "source": [
    "%%time\n",
    "train_images = []\n",
    "train_masks = []\n",
    "test_images = []\n",
    "test_masks = []\n",
    "\n",
    "\n",
    "#3 канальное потому, что segmentation models ожидают 3 канальные изображения\n",
    "for img in os.listdir(train_img_directory):\n",
    "    img = cv2.imread(train_img_directory + img, 1)# 1 значит читает изображение как RGB\n",
    "    train_images.append(img)\n",
    "            \n",
    "train_images = np.array(train_images)\n",
    "\n",
    "for img in os.listdir(train_msk_directory):\n",
    "    img = cv2.imread(train_msk_directory + img, 0)# 0 начит читает изображение как grayscale\n",
    "    train_masks.append(np.array(img))\n",
    "            \n",
    "train_masks = np.array(train_masks)\n",
    "\n",
    "for img in os.listdir(test_img_directory):\n",
    "    img = cv2.imread(test_img_directory + img, 1)\n",
    "    test_images.append(np.array(img))\n",
    "            \n",
    "test_images = np.array(test_images)\n",
    "\n",
    "for img in os.listdir(test_msk_directory):\n",
    "    image = Image.open(test_msk_directory + img)\n",
    "    test_masks.append(np.array(image))\n",
    "            \n",
    "test_masks = np.array(test_masks)\n",
    "\n",
    "print(train_images.shape)\n",
    "print(train_masks.shape)\n",
    "print(test_images.shape)\n",
    "print(test_masks.shape)"
   ]
  },
  {
   "cell_type": "code",
   "execution_count": null,
   "id": "f60152d1",
   "metadata": {},
   "outputs": [],
   "source": [
    "from sklearn.preprocessing import LabelEncoder\n",
    "labelencoder = LabelEncoder() #переводит значения 0 255 в 0 и 1\n",
    "\n",
    "n, h, w = train_masks.shape\n",
    "\n",
    "train_masks_reshaped = train_masks.reshape(-1,1)\n",
    "train_masks_reshaped_encoded = labelencoder.fit_transform(train_masks_reshaped)\n",
    "\n",
    "train_masks_encoded_original_shape = train_masks_reshaped_encoded.reshape(n, h, w)\n",
    "y_train = np.expand_dims(train_masks_encoded_original_shape, axis=3)"
   ]
  },
  {
   "cell_type": "code",
   "execution_count": null,
   "id": "1277c176",
   "metadata": {},
   "outputs": [],
   "source": [
    "n, h, w = test_masks.shape\n",
    "\n",
    "test_masks_reshaped = test_masks.reshape(-1,1)\n",
    "test_masks_reshaped_encoded = labelencoder.fit_transform(test_masks_reshaped)\n",
    "test_masks_encoded_original_shape = test_masks_reshaped_encoded.reshape(n, h, w)\n",
    "y_test = np.expand_dims(test_masks_encoded_original_shape, axis=3)"
   ]
  },
  {
   "cell_type": "code",
   "execution_count": null,
   "id": "004fe5b6",
   "metadata": {},
   "outputs": [],
   "source": [
    "#Reused parameters in all models\n",
    "\n",
    "n_classes=1\n",
    "activation='sigmoid'\n",
    "\n",
    "LR = 0.0001\n",
    "optim = tf.keras.optimizers.Adam(LR)\n",
    "\n",
    "# Segmentation models losses can be combined together by '+' and scaled by integer or float factor\n",
    "\n",
    "binary_focal_loss = sm.losses.BinaryFocalLoss(alpha=0.5, gamma=4.0)\n",
    "binary_CE_loss = sm.losses.BinaryCELoss()\n",
    "#dice_loss = sm.losses.DiceLoss(class_weights = np.array([0.05, 0.95]))\n",
    "\n",
    "total_loss = binary_focal_loss # + dice_loss\n",
    "\n",
    "metrics = [sm.metrics.IOUScore(threshold=0.5), sm.metrics.FScore(threshold=0.5)]"
   ]
  },
  {
   "cell_type": "code",
   "execution_count": null,
   "id": "1519a9bd",
   "metadata": {},
   "outputs": [],
   "source": [
    "y_train = np.float32(y_train)\n",
    "y_test = np.float32(y_test)"
   ]
  },
  {
   "cell_type": "code",
   "execution_count": null,
   "id": "b5d3eefa",
   "metadata": {},
   "outputs": [],
   "source": [
    "import segmentation_models as sm\n",
    "sm.set_framework('tf.keras')\n",
    "sm.framework()"
   ]
  },
  {
   "cell_type": "code",
   "execution_count": null,
   "id": "25a6c399",
   "metadata": {
    "scrolled": true
   },
   "outputs": [],
   "source": [
    "###Model 1\n",
    "BACKBONE1 = 'resnet34'\n",
    "preprocess_input1 = sm.get_preprocessing(BACKBONE1)\n",
    "\n",
    "# preprocess input\n",
    "X_train1 = preprocess_input1(train_images)\n",
    "X_test1 = preprocess_input1(test_images)\n",
    "\n",
    "# define model\n",
    "model1 = sm.Unet(BACKBONE1,\n",
    "                 encoder_weights='imagenet',\n",
    "                 encoder_freeze=False,\n",
    "                 decoder_block_type = 'transpose',\n",
    "                 classes=n_classes,\n",
    "                 activation=activation)\n",
    "\n",
    "# compile keras model with defined optimozer, loss and metrics\n",
    "model1.compile(optimizer=optim,\n",
    "               loss = total_loss,\n",
    "               metrics=metrics)\n",
    "\n",
    "#model1.compile(optimizer='adam', loss='categorical_crossentropy', metrics=metrics)\n",
    "\n",
    "print(model1.summary())"
   ]
  },
  {
   "cell_type": "code",
   "execution_count": null,
   "id": "6399672a",
   "metadata": {},
   "outputs": [],
   "source": [
    "filepath=basepath + 'new_models/' +  \"saved_models/\" + BACKBONE1 + \"-{epoch:02d}-{val_iou_score:.2f}.hdf5\" #File name includes epoch and validation accuracy.\n",
    "\n",
    "early_stop = EarlyStopping(monitor='val_iou_score',\n",
    "                           patience=7,\n",
    "                           mode = 'max',\n",
    "                           verbose=1)\n",
    "\n",
    "\n",
    "#Use Mode = max for accuracy and min for loss. \n",
    "checkpoint = ModelCheckpoint(filepath,\n",
    "                             monitor='val_iou_score',\n",
    "                             verbose=10,\n",
    "                             save_best_only=True,\n",
    "                             mode='max')\n",
    "\n",
    "callbacks_list = [checkpoint]"
   ]
  },
  {
   "cell_type": "code",
   "execution_count": null,
   "id": "286a462e",
   "metadata": {},
   "outputs": [],
   "source": [
    "%%time\n",
    "\n",
    "history1=model1.fit(X_train1, \n",
    "          y_train,\n",
    "          batch_size=32, \n",
    "          epochs=100,\n",
    "          verbose=1,\n",
    "          validation_data=(X_test1, y_test),\n",
    "        callbacks=callbacks_list)\n",
    "##############################################"
   ]
  },
  {
   "cell_type": "code",
   "execution_count": null,
   "id": "f29c9b2a",
   "metadata": {},
   "outputs": [],
   "source": [
    "#plot the training and validation accuracy and loss at each epoch\n",
    "loss = history1.history['loss']\n",
    "val_loss = history1.history['val_loss']\n",
    "epochs = range(1, len(loss) + 1)\n",
    "plt.plot(epochs, loss, 'y', label='Training loss')\n",
    "plt.plot(epochs, val_loss, 'r', label='Validation loss')\n",
    "plt.title('Training and validation loss')\n",
    "plt.xlabel('Epochs')\n",
    "plt.ylabel('Loss')\n",
    "plt.legend()\n",
    "plt.show()\n",
    "\n",
    "acc = history1.history['iou_score']\n",
    "val_acc = history1.history['val_iou_score']\n",
    "\n",
    "plt.plot(epochs, acc, 'y', label='Training iou_score')\n",
    "plt.plot(epochs, val_acc, 'r', label='Validation iou_score')\n",
    "plt.title('Training and validation iou_score')\n",
    "plt.xlabel('Epochs')\n",
    "plt.ylabel('Accuracy')\n",
    "plt.legend()\n",
    "plt.show()"
   ]
  },
  {
   "cell_type": "code",
   "execution_count": null,
   "id": "c15b3bf5",
   "metadata": {},
   "outputs": [],
   "source": [
    "valid_img_directory = basepath + 'test/patches/'\n",
    "valid_msk_directory = basepath + 'test/patches_msk/'\n",
    "\n",
    "valid_img_list = os.listdir(valid_img_directory)\n",
    "print(len(valid_img_list))\n",
    "valid_msk_list = os.listdir(valid_msk_directory)\n",
    "print(len(valid_msk_list))"
   ]
  },
  {
   "cell_type": "code",
   "execution_count": null,
   "id": "33320252",
   "metadata": {},
   "outputs": [],
   "source": [
    "num_images = len(valid_img_list)\n",
    "\n",
    "img_num = random.randint(0, num_images-1)\n",
    "\n",
    "img_for_plot = cv2.imread(valid_img_directory + valid_img_list[img_num], 1)\n",
    "img_for_plot = cv2.cvtColor(img_for_plot, cv2.COLOR_BGR2RGB)\n",
    "\n",
    "mask_for_plot =cv2.imread(valid_msk_directory + valid_msk_list[img_num], 0)\n",
    "\n",
    "plt.figure(figsize=(12, 8))\n",
    "plt.subplot(121)\n",
    "plt.imshow(img_for_plot)\n",
    "plt.title('Image')\n",
    "plt.subplot(122)\n",
    "plt.imshow(mask_for_plot, cmap='gray')\n",
    "plt.title('Mask')\n",
    "plt.show()"
   ]
  },
  {
   "cell_type": "code",
   "execution_count": null,
   "id": "b3e18980",
   "metadata": {},
   "outputs": [],
   "source": [
    "%%time\n",
    "valid_images = []\n",
    "\n",
    "for img in os.listdir(valid_img_directory):\n",
    "    if(os.path.isfile(valid_img_directory + img)):\n",
    "        img = cv2.imread(valid_img_directory + img, 1)\n",
    "        valid_images.append(np.array(img))\n",
    "\n",
    "valid_images = np.array(valid_images)\n",
    "\n",
    "from PIL import Image\n",
    "\n",
    "valid_masks = []\n",
    "\n",
    "for img in os.listdir(valid_msk_directory):\n",
    "    if(os.path.isfile(valid_msk_directory + img)):\n",
    "        image = Image.open(valid_msk_directory + img)\n",
    "        valid_masks.append(np.array(image))\n",
    "\n",
    "valid_masks = np.array(valid_masks)"
   ]
  },
  {
   "cell_type": "code",
   "execution_count": null,
   "id": "a093b6ca",
   "metadata": {},
   "outputs": [],
   "source": [
    "n, h, w = valid_masks.shape\n",
    "\n",
    "valid_masks_reshaped = valid_masks.reshape(-1,1)\n",
    "valid_masks_reshaped_encoded = labelencoder.fit_transform(valid_masks_reshaped)\n",
    "valid_masks_encoded_original_shape = valid_masks_reshaped_encoded.reshape(n, h, w)\n",
    "y_valid = np.expand_dims(valid_masks_encoded_original_shape, axis=3)"
   ]
  },
  {
   "cell_type": "code",
   "execution_count": null,
   "id": "07bd5787",
   "metadata": {},
   "outputs": [],
   "source": [
    "BACKBONE = BACKBONE1\n",
    "preprocess_input = sm.get_preprocessing(BACKBONE)\n",
    "\n",
    "X_valid = preprocess_input(valid_images)\n",
    "y_valid = np.float32(y_valid)"
   ]
  },
  {
   "cell_type": "code",
   "execution_count": null,
   "id": "8eab6e38",
   "metadata": {},
   "outputs": [],
   "source": [
    "model_name = 'resnet34-95-0.62.hdf5'\n",
    "model = tf.keras.models.load_model(basepath + 'new_models/saved_models/' + model_name, compile = False)"
   ]
  },
  {
   "cell_type": "code",
   "execution_count": null,
   "id": "0ec07a82",
   "metadata": {},
   "outputs": [],
   "source": [
    "prediction = model.predict(X_valid)\n",
    "y_pred_thresholded = prediction > 0.5"
   ]
  },
  {
   "cell_type": "code",
   "execution_count": null,
   "id": "29971f81",
   "metadata": {},
   "outputs": [],
   "source": [
    "intersection = np.logical_and(y_valid, y_pred_thresholded)\n",
    "union = np.logical_or(y_valid, y_pred_thresholded)\n",
    "iou_score = np.sum(intersection) / np.sum(union)\n",
    "print(\" IoU socre is: \", iou_score)"
   ]
  }
 ],
 "metadata": {
  "kernelspec": {
   "display_name": "Python 3 (ipykernel)",
   "language": "python",
   "name": "python3"
  },
  "language_info": {
   "codemirror_mode": {
    "name": "ipython",
    "version": 3
   },
   "file_extension": ".py",
   "mimetype": "text/x-python",
   "name": "python",
   "nbconvert_exporter": "python",
   "pygments_lexer": "ipython3",
   "version": "3.7.11"
  }
 },
 "nbformat": 4,
 "nbformat_minor": 5
}
